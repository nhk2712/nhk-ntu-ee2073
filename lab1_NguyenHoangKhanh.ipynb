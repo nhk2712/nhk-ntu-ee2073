{
 "cells": [
  {
   "cell_type": "markdown",
   "id": "de2322ac",
   "metadata": {},
   "source": [
    "# EE2073 Lab 1\n",
    "### Author: Nguyen Hoang Khanh (Kelvin)"
   ]
  },
  {
   "cell_type": "markdown",
   "id": "6b21f667",
   "metadata": {},
   "source": [
    "Import required libraries and identify serial port"
   ]
  },
  {
   "cell_type": "code",
   "execution_count": 20,
   "id": "425acd9a",
   "metadata": {},
   "outputs": [],
   "source": [
    "import serial\n",
    "import serial.tools.list_ports\n",
    "\n",
    "ports = serial.tools.list_ports.comports() # get list of serial ports with devices"
   ]
  },
  {
   "cell_type": "markdown",
   "id": "c9ad394b",
   "metadata": {},
   "source": [
    "Identify STM32 MCU"
   ]
  },
  {
   "cell_type": "code",
   "execution_count": 21,
   "id": "56f55faa",
   "metadata": {},
   "outputs": [],
   "source": [
    "VID = 61525 # vendor ID of the device\n",
    "PID = 38912 # product ID of the device\n",
    "\n",
    "for p in ports:\n",
    "    if p.vid == VID and p.pid == PID:\n",
    "        try:\n",
    "            device = serial.Serial(p.device)\n",
    "        except serial.SerialException: # raised if the device not available\n",
    "            print(\"Reconnect the controller unit.\")\n",
    "\n",
    "if device is None:\n",
    "    raise Exception(\"No suitable device detected.\") # if no matching device found"
   ]
  },
  {
   "cell_type": "markdown",
   "id": "78ab54ec",
   "metadata": {},
   "source": [
    "Call `device` object to retrieve basic information about the connection"
   ]
  },
  {
   "cell_type": "code",
   "execution_count": 22,
   "id": "dc2df966",
   "metadata": {},
   "outputs": [
    {
     "data": {
      "text/plain": [
       "Serial<id=0x23f4edd7760, open=True>(port='COM5', baudrate=9600, bytesize=8, parity='N', stopbits=1, timeout=None, xonxoff=False, rtscts=False, dsrdtr=False)"
      ]
     },
     "execution_count": 22,
     "metadata": {},
     "output_type": "execute_result"
    }
   ],
   "source": [
    "device # check the connection information"
   ]
  },
  {
   "cell_type": "markdown",
   "id": "0b782260",
   "metadata": {},
   "source": [
    "Simple MicroPython commands to the controller unit"
   ]
  },
  {
   "cell_type": "code",
   "execution_count": 32,
   "id": "cb82bf61",
   "metadata": {},
   "outputs": [
    {
     "data": {
      "text/plain": [
       "20"
      ]
     },
     "execution_count": 32,
     "metadata": {},
     "output_type": "execute_result"
    }
   ],
   "source": [
    "device.write(bytes('pyb.LED(1).toggle()\\r', 'utf-8')) # toggle the status of D2 LED"
   ]
  },
  {
   "cell_type": "markdown",
   "id": "381513a4",
   "metadata": {},
   "source": [
    "If we run the line above after closing the connection, it will raise an error."
   ]
  },
  {
   "cell_type": "markdown",
   "id": "31b1cb74",
   "metadata": {},
   "source": [
    "Close the connection"
   ]
  },
  {
   "cell_type": "code",
   "execution_count": 36,
   "id": "8c80e72a",
   "metadata": {},
   "outputs": [],
   "source": [
    "device.close() # close connection"
   ]
  },
  {
   "cell_type": "markdown",
   "id": "4fdbb3f4",
   "metadata": {},
   "source": [
    "Open the connection (to reopen after closing)"
   ]
  },
  {
   "cell_type": "code",
   "execution_count": 17,
   "id": "08747797",
   "metadata": {},
   "outputs": [],
   "source": [
    "device.open() # reopen connection"
   ]
  },
  {
   "cell_type": "markdown",
   "id": "afbfea9a",
   "metadata": {},
   "source": [
    "Initialization for changing voltage at VDCP"
   ]
  },
  {
   "cell_type": "code",
   "execution_count": 33,
   "id": "f7a76066",
   "metadata": {},
   "outputs": [
    {
     "data": {
      "text/plain": [
       "26"
      ]
     },
     "execution_count": 33,
     "metadata": {},
     "output_type": "execute_result"
    }
   ],
   "source": [
    "device.write(bytes(\"from pyb import Pin\\r\", 'utf-8'))\n",
    "device.write(bytes(\"from machine import SPI\\r\", 'utf-8'))\n",
    "device.write(bytes(\"spi = SPI(sck=Pin('PB13', Pin.OUT), mosi=Pin('PB15', Pin.OUT), miso=Pin('PB14', Pin.IN))\\r\", 'utf-8'))\n",
    "device.write(bytes(\"dz = Pin('PB12', Pin.OUT)\\r\", 'utf-8'))"
   ]
  },
  {
   "cell_type": "markdown",
   "id": "96dd90aa",
   "metadata": {},
   "source": [
    "Set the DC supply voltage at VDCP"
   ]
  },
  {
   "cell_type": "code",
   "execution_count": 35,
   "id": "eb671871",
   "metadata": {},
   "outputs": [
    {
     "data": {
      "text/plain": [
       "12"
      ]
     },
     "execution_count": 35,
     "metadata": {},
     "output_type": "execute_result"
    }
   ],
   "source": [
    "expectedVolt = 12\n",
    "\n",
    "device.write(bytes(\"volt={}\\r\".format(expectedVolt), 'utf-8'))\n",
    "device.write(bytes(\"y=312-1020/volt\\r\", 'utf-8'))\n",
    "device.write(bytes(\"dz.value(0)\\r\", 'utf-8'))\n",
    "device.write(bytes(\"spi.write(b'\\\\x11')\\r\", 'utf-8'))\n",
    "device.write(bytes(\"spi.write(bytes((int(y),)))\\r\", 'utf-8'))\n",
    "device.write(bytes(\"dz.value(1)\\r\", 'utf-8'))"
   ]
  },
  {
   "cell_type": "markdown",
   "id": "487b9165",
   "metadata": {},
   "source": [
    "Here note that each line has to be written separately. We cannot write all lines at once using '\\n' notation."
   ]
  },
  {
   "cell_type": "markdown",
   "id": "23f859f3",
   "metadata": {},
   "source": [
    "#### Explanation on SPI\n",
    "SPI stands for Serial Peripheral Interface bus protocol. It is a synchronous serial protocol that is driven by a controller. By initiating a spi instance, we can communicate with a particular device on the bus.\n",
    "\n",
    "The line `spi = SPI(sck=Pin('PB13', Pin.OUT), mosi=Pin('PB15', Pin.OUT), miso=Pin('Pin14', Pin.IN))` initiates a spi instance. It assigns the SCK to pin PB13 and sets the pin mode to output. Pin PB15 is selected to be the MOSI and set to output, while pin Pin14 is assigned to be the MISO and set to input."
   ]
  }
 ],
 "metadata": {
  "kernelspec": {
   "display_name": "Python 3 (ipykernel)",
   "language": "python",
   "name": "python3"
  },
  "language_info": {
   "codemirror_mode": {
    "name": "ipython",
    "version": 3
   },
   "file_extension": ".py",
   "mimetype": "text/x-python",
   "name": "python",
   "nbconvert_exporter": "python",
   "pygments_lexer": "ipython3",
   "version": "3.12.8"
  }
 },
 "nbformat": 4,
 "nbformat_minor": 5
}
